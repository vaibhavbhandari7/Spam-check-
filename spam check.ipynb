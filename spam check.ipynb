{
 "cells": [
  {
   "cell_type": "code",
   "execution_count": 1,
   "metadata": {
    "collapsed": true
   },
   "outputs": [],
   "source": [
    "import pandas as pd\n",
    "from sklearn.feature_extraction.text import CountVectorizer\n",
    "from sklearn.linear_model import LogisticRegression\n",
    "from sklearn.model_selection import train_test_split\n",
    "from sklearn.model_selection import StratifiedKFold\n",
    "import numpy as np\n",
    "from sklearn.metrics import confusion_matrix"
   ]
  },
  {
   "cell_type": "code",
   "execution_count": 2,
   "metadata": {
    "collapsed": true
   },
   "outputs": [],
   "source": [
    "def get_resume(df, vec, ascending = False, n = None):\n",
    "    X = vec.fit_transform(df[\"text\"].values)\n",
    "    feature_names = vec.get_feature_names()\n",
    "\n",
    "    resume = pd.DataFrame(columns = feature_names, data = X.toarray()).sum()\n",
    "\n",
    "    if(n):\n",
    "        return resume.sort_values(ascending = ascending)[:n]\n",
    "\n",
    "    return resume"
   ]
  },
  {
   "cell_type": "code",
   "execution_count": 3,
   "metadata": {
    "collapsed": true
   },
   "outputs": [],
   "source": [
    "df = pd.read_csv(\"spam.csv\", encoding='latin-1')\n",
    "\n",
    "df.columns = [\"sms_type\", \"text\", \"2\", \"3\", \"4\"]\n",
    "\n",
    "df.drop(\"2\", axis=1, inplace=True)\n",
    "df.drop(\"3\", axis=1, inplace=True)\n",
    "df.drop(\"4\", axis=1, inplace=True)\n",
    "\n",
    "df[\"text\"] = df[\"text\"].str.lower()"
   ]
  },
  {
   "cell_type": "code",
   "execution_count": 4,
   "metadata": {
    "collapsed": false
   },
   "outputs": [
    {
     "name": "stdout",
     "output_type": "stream",
     "text": [
      "enter the stinghell\n"
     ]
    }
   ],
   "source": [
    "entry=raw_input(\"enter the sting\")"
   ]
  },
  {
   "cell_type": "code",
   "execution_count": 8,
   "metadata": {
    "collapsed": false
   },
   "outputs": [
    {
     "name": "stdout",
     "output_type": "stream",
     "text": [
      "[u'ham']\n"
     ]
    }
   ],
   "source": [
    "entry = entry.lower()\n",
    "vec = CountVectorizer(decode_error = 'ignore', stop_words = \"english\")\n",
    "spam_resume = get_resume(df[df[\"sms_type\"] == \"spam\"], vec, n = 25)\n",
    "df[\"text\"] = df[\"text\"].str.replace(\"\\d{4,}\", \" suspectnumber \")\n",
    "entry = entry.replace(\"\\d{4,}\", \" suspectnumber \")\n",
    "X = df[\"text\"].values\n",
    "y = df[\"sms_type\"].values\n",
    "new = [entry]\n",
    "vocabulary = list(set(list(spam_resume.keys())))\n",
    "relevant_vec = CountVectorizer(decode_error='ignore',stop_words=\"english\",vocabulary=vocabulary)\n",
    "X_train = relevant_vec.fit_transform(X)\n",
    "y_train = y\n",
    "log_model = LogisticRegression()\n",
    "log_model.fit(X_train, y_train)\n",
    "new = relevant_vec.fit_transform(new)\n",
    "html = log_model.predict(new)\n",
    "print html"
   ]
  },
  {
   "cell_type": "code",
   "execution_count": null,
   "metadata": {
    "collapsed": true
   },
   "outputs": [],
   "source": []
  },
  {
   "cell_type": "code",
   "execution_count": null,
   "metadata": {
    "collapsed": true
   },
   "outputs": [],
   "source": []
  }
 ],
 "metadata": {
  "kernelspec": {
   "display_name": "Python [conda root]",
   "language": "python",
   "name": "conda-root-py"
  },
  "language_info": {
   "codemirror_mode": {
    "name": "ipython",
    "version": 2
   },
   "file_extension": ".py",
   "mimetype": "text/x-python",
   "name": "python",
   "nbconvert_exporter": "python",
   "pygments_lexer": "ipython2",
   "version": "2.7.12"
  }
 },
 "nbformat": 4,
 "nbformat_minor": 1
}
